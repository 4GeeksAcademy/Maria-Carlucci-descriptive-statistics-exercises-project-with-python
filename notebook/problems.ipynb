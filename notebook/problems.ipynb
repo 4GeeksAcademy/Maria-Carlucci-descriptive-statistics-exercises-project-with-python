{
    "cells": [
        {
            "cell_type": "markdown",
            "id": "ac622319",
            "metadata": {},
            "source": [
                "# Descriptive statistics problems"
            ]
        },
        {
            "cell_type": "markdown",
            "id": "5e0ab0d5",
            "metadata": {},
            "source": [
                "### Exercise 1\n",
                "\n",
                "We will use NumPy to obtain information to describe statistically.\n",
                "\n",
                "- Generate an array of 100 elements following a normal distribution.\n",
                "- Generate an array of 100 elements following a chi-square distribution with 3 degrees of freedom.\n",
                "- Calculate the main metrics and statistical measures that best describe the two vectors."
            ]
        },
        {
            "cell_type": "code",
            "execution_count": 12,
            "id": "34720ab6",
            "metadata": {},
            "outputs": [
                {
                    "name": "stdout",
                    "output_type": "stream",
                    "text": [
                        "La media de la distribucion normal es -0.0080581769660154\n",
                        "La media de la distribucion chi-squeare es 3.3153887423373587\n",
                        "La mediana de la distribucion normal es -0.054129185803206206\n",
                        "La mediana de la distribucion chi-squeare es 2.5114251183715615\n",
                        "La moda de la distribucion normal es -0.4334439716563809\n",
                        "La moda de la distribucion chi-squeare es 4.019124424616695\n",
                        "El rango de la distribucion normal es 4.978749822929527\n",
                        "El rango de la distribucion chi-squeare es 13.852630553121562\n",
                        "La varianza de la distribucion normal es 0.742166593437469\n",
                        "La varianza de la distribucion chi-squeare es 6.610551665854474\n",
                        "La desviacion estandar de la distribucion normal es 0.8614909131485189\n",
                        "La desviacion estandar de la distribucion chi-squeare es 2.571099310772432\n",
                        "La simetria de la distribucion normal es -0.3168128789197747\n",
                        "La simetria de la distribucion chi-squeare es 1.5320195145907116\n",
                        "La curtosis de la distribucion normal es 0.5748028215426584\n",
                        "La curtosis de la distribucion chi-squeare es 2.75919156823106\n"
                    ]
                }
            ],
            "source": [
                "# TODO\n",
                "import numpy as np\n",
                "import statistics as stats\n",
                "from scipy.stats import skew, kurtosis\n",
                "arr_normal = np.random.normal(0,1,100)\n",
                "arr_chisquare = np.random.chisquare(3,100)\n",
                "\n",
                "#MEDIDAS DE TENDENCIA CENTRAL\n",
                "print(\"La media de la distribucion normal es \"+str(stats.mean(arr_normal)))\n",
                "print(\"La media de la distribucion chi-squeare es \"+str(stats.mean(arr_chisquare)))\n",
                "print(\"La mediana de la distribucion normal es \"+str(stats.median(arr_normal)))\n",
                "print(\"La mediana de la distribucion chi-squeare es \"+str(stats.median(arr_chisquare)))\n",
                "print(\"La moda de la distribucion normal es \"+str(stats.mode(arr_normal)))\n",
                "print(\"La moda de la distribucion chi-squeare es \"+str(stats.mode(arr_chisquare)))\n",
                "\n",
                "#MEDIDAS DE DISPERSION\n",
                "print(\"El rango de la distribucion normal es \"+str(max(arr_normal)-min(arr_normal)))\n",
                "print(\"El rango de la distribucion chi-squeare es \"+str(max(arr_chisquare)-min(arr_chisquare)))\n",
                "print(\"La varianza de la distribucion normal es \"+str(stats.variance(arr_normal)))\n",
                "print(\"La varianza de la distribucion chi-squeare es \"+str(stats.variance(arr_chisquare)))\n",
                "print(\"La desviacion estandar de la distribucion normal es \"+str(stats.stdev(arr_normal)))\n",
                "print(\"La desviacion estandar de la distribucion chi-squeare es \"+str(stats.stdev(arr_chisquare)))\n",
                "\n",
                "#MEDIDAS DE FORMA\n",
                "print(\"La simetria de la distribucion normal es \"+str(skew(arr_normal)))\n",
                "print(\"La simetria de la distribucion chi-squeare es \"+str(skew(arr_chisquare)))\n",
                "print(\"La curtosis de la distribucion normal es \"+str(kurtosis(arr_normal)))\n",
                "print(\"La curtosis de la distribucion chi-squeare es \"+str(kurtosis(arr_chisquare)))\n",
                "\n",
                "\n"
            ]
        },
        {
            "cell_type": "markdown",
            "id": "46c70c3d",
            "metadata": {},
            "source": [
                "### Exercise 2\n",
                "\n",
                "Write a Python program to calculate the standard deviation of the following data:\n",
                "\n",
                "```py\n",
                "data = [4, 2, 5, 8, 6]\n",
                "```"
            ]
        },
        {
            "cell_type": "code",
            "execution_count": 4,
            "id": "d590308e",
            "metadata": {},
            "outputs": [
                {
                    "name": "stdout",
                    "output_type": "stream",
                    "text": [
                        "La desviacion estandar de esta data es 2.0\n"
                    ]
                }
            ],
            "source": [
                "# TODO\n",
                "import numpy as np\n",
                "import math\n",
                "\n",
                "data = [4,2,5,8,6]\n",
                "arr = np.array(data)\n",
                "\n",
                "summedia = 0\n",
                "for i in range(len(arr)):\n",
                "    summedia += arr[i]\n",
                "media = summedia/len(arr)   \n",
                "\n",
                "sumadesv=0\n",
                "for i in range(len(arr)):\n",
                "    sumadesv += (arr[i]-media)**2\n",
                "desv = sumadesv/len(arr)\n",
                "\n",
                "desv_estandar = math.sqrt(desv)\n",
                "print(\"La desviacion estandar de esta data es \"+str(desv_estandar))\n",
                "\n"
            ]
        }
    ],
    "metadata": {
        "kernelspec": {
            "display_name": "Python 3",
            "language": "python",
            "name": "python3"
        },
        "language_info": {
            "codemirror_mode": {
                "name": "ipython",
                "version": 3
            },
            "file_extension": ".py",
            "mimetype": "text/x-python",
            "name": "python",
            "nbconvert_exporter": "python",
            "pygments_lexer": "ipython3",
            "version": "3.11.4"
        }
    },
    "nbformat": 4,
    "nbformat_minor": 5
}
